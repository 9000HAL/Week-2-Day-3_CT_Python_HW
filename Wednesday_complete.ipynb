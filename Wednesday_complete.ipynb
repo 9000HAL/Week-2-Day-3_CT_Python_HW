{
 "cells": [
  {
   "cell_type": "markdown",
   "metadata": {},
   "source": [
    "# Data Collections 2 (Dictionaries, Sets) and Importing Modules"
   ]
  },
  {
   "cell_type": "markdown",
   "metadata": {},
   "source": [
    "## Tasks Today:\n",
    "\n",
    "1) Dictionary <br>\n",
    " &nbsp;&nbsp;&nbsp;&nbsp; a) Declaring (key, value) <br>\n",
    " &nbsp;&nbsp;&nbsp;&nbsp; b) Accessing Values <br>\n",
    " &nbsp;&nbsp;&nbsp;&nbsp; ------ Exercise #1 - Print the eye color of each person in a double nested dict <br>\n",
    " &nbsp;&nbsp;&nbsp;&nbsp; c) Adding New Pairs <br>\n",
    " &nbsp;&nbsp;&nbsp;&nbsp; d) Modifying Values <br>\n",
    " &nbsp;&nbsp;&nbsp;&nbsp; e) Removing Key, Value Pairs <br>\n",
    " &nbsp;&nbsp;&nbsp;&nbsp; f) Looping a Dictionary <br>\n",
    " &nbsp;&nbsp;&nbsp;&nbsp; g) Looping Only Keys <br>\n",
    " &nbsp;&nbsp;&nbsp;&nbsp; h) Looping Only Values <br>\n",
    " &nbsp;&nbsp;&nbsp;&nbsp; ------ Exercise #2 - Create a Function that Prints All Key Value Pairs within a print .format()  <br>\n",
    " &nbsp;&nbsp;&nbsp;&nbsp; i) sorted() <br>\n",
    " &nbsp;&nbsp;&nbsp;&nbsp; j) Lists with Dictionaries <br>\n",
    " &nbsp;&nbsp;&nbsp;&nbsp; k) Dictionaries with Lists <br>\n",
    " &nbsp;&nbsp;&nbsp;&nbsp; l) Dictionaries with Dictionaries <br>\n",
    " &nbsp;&nbsp;&nbsp;&nbsp; ------ Exercise #3 - Write a Function that asks someone's name and address, and then stores that into a dictionary, which prints all names and addresses after they're done putting information in...  <br>\n",
    "2) Dictionaries vs. Lists (over time)<br>\n",
    "3) Set <br>\n",
    " &nbsp;&nbsp;&nbsp;&nbsp; a) Declaring <br>\n",
    " &nbsp;&nbsp;&nbsp;&nbsp; b) .add() <br>\n",
    " &nbsp;&nbsp;&nbsp;&nbsp; c) .remove() <br>\n",
    " &nbsp;&nbsp;&nbsp;&nbsp; d) .union() <br>\n",
    " &nbsp;&nbsp;&nbsp;&nbsp; e) .intersection() <br>\n",
    " &nbsp;&nbsp;&nbsp;&nbsp; f) .difference() <br>\n",
    " &nbsp;&nbsp;&nbsp;&nbsp; g) Frozen Set <br>\n",
    "4) Modules <br>\n",
    " &nbsp;&nbsp;&nbsp;&nbsp; a) Importing Entire Modules <br>\n",
    " &nbsp;&nbsp;&nbsp;&nbsp; b) Importing Methods Only <br>\n",
    " &nbsp;&nbsp;&nbsp;&nbsp; c) Using the 'as' Keyword <br>\n",
    " &nbsp;&nbsp;&nbsp;&nbsp; d) Creating a Module <br>\n",
    "5) Exercises <br>\n",
    " &nbsp;&nbsp;&nbsp;&nbsp; a) Build a Shopping Cart <br>\n",
    " &nbsp;&nbsp;&nbsp;&nbsp; b) Create Your Own Module <br>"
   ]
  },
  {
   "cell_type": "markdown",
   "metadata": {},
   "source": [
    "## Dictionary <br>\n",
    "<p>A collection of data with 'key:value' pairs. Dictionaries are ordered as of Python 3.6</p>"
   ]
  },
  {
   "cell_type": "markdown",
   "metadata": {},
   "source": [
    "##### Declaring (key, value)"
   ]
  },
  {
   "cell_type": "code",
   "execution_count": 3,
   "metadata": {},
   "outputs": [
    {
     "name": "stdout",
     "output_type": "stream",
     "text": [
      "<class 'dict'>\n",
      "<class 'dict'>\n",
      "{'username': 'Dylank', 'password': 'IlovemyDog', 'fav_color': 'green'}\n"
     ]
    }
   ],
   "source": [
    "new_dict = {}\n",
    "new_dict2 = dict()\n",
    "\n",
    "\n",
    "user = {\n",
    "    'username': 'Dylank',\n",
    "    'password': 'IlovemyDog',\n",
    "    'fav_color': 'green'\n",
    "}\n",
    "\n",
    "\n",
    "print(type(new_dict))\n",
    "print(type(new_dict2))\n",
    "\n",
    "print(user)"
   ]
  },
  {
   "cell_type": "markdown",
   "metadata": {},
   "source": [
    "##### Accessing Values"
   ]
  },
  {
   "cell_type": "code",
   "execution_count": 5,
   "metadata": {},
   "outputs": [
    {
     "name": "stdout",
     "output_type": "stream",
     "text": [
      "Dylank\n",
      "IlovemyDog\n"
     ]
    }
   ],
   "source": [
    "print(user['username'])\n",
    "print(user['password'])"
   ]
  },
  {
   "cell_type": "markdown",
   "metadata": {},
   "source": [
    "## In-Class Exercise #1 - Print a formatted statement from the dictionary below <br>\n",
    "<p>The output should be '2018 Chevrolet Silverado'</p>"
   ]
  },
  {
   "cell_type": "code",
   "execution_count": null,
   "metadata": {},
   "outputs": [],
   "source": [
    "# use the dict below\n",
    "truck = {\n",
    "    'year': 2018,\n",
    "    'make': 'Chevrolet',\n",
    "    'model': 'Silverado'\n",
    "}\n",
    "\n"
   ]
  },
  {
   "cell_type": "markdown",
   "metadata": {},
   "source": [
    "##### Adding New Pairs"
   ]
  },
  {
   "cell_type": "code",
   "execution_count": 6,
   "metadata": {},
   "outputs": [
    {
     "name": "stdout",
     "output_type": "stream",
     "text": [
      "{'username': 'Dylank', 'password': 'IlovemyDog', 'fav_color': 'green', 'fav_food': 'Tacos'}\n"
     ]
    }
   ],
   "source": [
    "user = {\n",
    "    'username': 'Dylank',\n",
    "    'password': 'IlovemyDog',\n",
    "    'fav_color': 'green'\n",
    "}\n",
    "\n",
    "user['fav_food'] = 'Tacos'\n",
    "\n",
    "print(user)"
   ]
  },
  {
   "cell_type": "markdown",
   "metadata": {},
   "source": [
    "##### Modifying Values"
   ]
  },
  {
   "cell_type": "code",
   "execution_count": 7,
   "metadata": {},
   "outputs": [
    {
     "name": "stdout",
     "output_type": "stream",
     "text": [
      "{'username': 'Hurricane', 'password': 'IlovemyDog', 'fav_color': 'green', 'fav_food': 'Tacos'}\n"
     ]
    }
   ],
   "source": [
    "user['username'] = 'Hurricane'\n",
    "\n",
    "print(user)"
   ]
  },
  {
   "cell_type": "markdown",
   "metadata": {},
   "source": [
    "##### Removing Key, Value Pairs"
   ]
  },
  {
   "cell_type": "code",
   "execution_count": 8,
   "metadata": {},
   "outputs": [
    {
     "name": "stdout",
     "output_type": "stream",
     "text": [
      "{'username': 'Hurricane', 'password': 'IlovemyDog', 'fav_food': 'Tacos'}\n"
     ]
    }
   ],
   "source": [
    "del user['fav_color']\n",
    "\n",
    "print(user)"
   ]
  },
  {
   "cell_type": "markdown",
   "metadata": {},
   "source": [
    "##### Looping a Dictionary"
   ]
  },
  {
   "cell_type": "code",
   "execution_count": 9,
   "metadata": {},
   "outputs": [
    {
     "name": "stdout",
     "output_type": "stream",
     "text": [
      "My username is Hurricane\n",
      "My password is IlovemyDog\n",
      "My fav_food is Tacos\n"
     ]
    }
   ],
   "source": [
    "# .items()\n",
    "\n",
    "for key, value in user.items():\n",
    "    print(f'My {key} is {value}')\n",
    "\n"
   ]
  },
  {
   "cell_type": "markdown",
   "metadata": {},
   "source": [
    "##### Looping Only Keys"
   ]
  },
  {
   "cell_type": "code",
   "execution_count": 11,
   "metadata": {},
   "outputs": [
    {
     "name": "stdout",
     "output_type": "stream",
     "text": [
      "username\n",
      "password\n",
      "fav_food\n"
     ]
    }
   ],
   "source": [
    "# .keys()\n",
    "\n",
    "for key in user.keys():\n",
    "    print(key)\n",
    "\n"
   ]
  },
  {
   "cell_type": "markdown",
   "metadata": {},
   "source": [
    "##### Looping Only Values"
   ]
  },
  {
   "cell_type": "code",
   "execution_count": 12,
   "metadata": {},
   "outputs": [
    {
     "name": "stdout",
     "output_type": "stream",
     "text": [
      "Hurricane\n",
      "IlovemyDog\n",
      "Tacos\n"
     ]
    }
   ],
   "source": [
    "# .values()\n",
    "\n",
    "for value in user.values():\n",
    "    print(value)\n"
   ]
  },
  {
   "cell_type": "markdown",
   "metadata": {},
   "source": [
    "## In-Class Exercise #2 - Create a Function that Prints All Key Value Pairs within a print .format() <br>\n",
    "<p><b>Output should be:</b><br>\n",
    "Max has blue eyes<br>\n",
    "Lilly has brown eyes<br>\n",
    "Barney has blue eyes<br>\n",
    "etc.\n",
    "</p>"
   ]
  },
  {
   "cell_type": "code",
   "execution_count": 13,
   "metadata": {},
   "outputs": [],
   "source": [
    "# use the dict below\n",
    "\n",
    "people = {\n",
    "    'Max': 'blue',\n",
    "    'Lilly': 'brown',\n",
    "    'Barney': 'blue',\n",
    "    'Larney': 'brown',\n",
    "    'Ted': 'purple'\n",
    "}\n"
   ]
  },
  {
   "cell_type": "markdown",
   "metadata": {},
   "source": [
    "##### sorted()"
   ]
  },
  {
   "cell_type": "code",
   "execution_count": 19,
   "metadata": {},
   "outputs": [
    {
     "name": "stdout",
     "output_type": "stream",
     "text": [
      "[('Ted', 'purple'), ('Max', 'blue'), ('Lilly', 'brown'), ('Larney', 'brown'), ('Barney', 'blue')]\n"
     ]
    }
   ],
   "source": [
    "# sorts variables in order\n",
    "# sorted(dict.values()) or dict.keys() or dict.items()\n",
    "\n",
    "\n",
    "new_people = sorted(people.items(), reverse=True)\n",
    "\n",
    "\n",
    "\n",
    "print(new_people)\n"
   ]
  },
  {
   "cell_type": "markdown",
   "metadata": {},
   "source": [
    "##### List with Dictionaries"
   ]
  },
  {
   "cell_type": "code",
   "execution_count": 23,
   "metadata": {},
   "outputs": [
    {
     "name": "stdout",
     "output_type": "stream",
     "text": [
      "l\n"
     ]
    }
   ],
   "source": [
    "Thieves = ['Rhianna', 'Caden', 'William', 'Kasey', {'ins1': 'Christian', 'ins2': 'Dylan'}]\n",
    "\n",
    "\n",
    "print(Thieves[4]['ins2'][2])"
   ]
  },
  {
   "cell_type": "markdown",
   "metadata": {},
   "source": [
    "##### Dictionaries with Lists"
   ]
  },
  {
   "cell_type": "code",
   "execution_count": 26,
   "metadata": {},
   "outputs": [
    {
     "name": "stdout",
     "output_type": "stream",
     "text": [
      "Sarah\n",
      "somthing random\n"
     ]
    }
   ],
   "source": [
    "# be careful when using numbers as keys in dictionaries, don't confuse them with indexes\n",
    "\n",
    "coding_temple = {\n",
    "    'Thieves': ['Christian', 'Dylan'],\n",
    "    'Padawans':['Shoha', 'Sarah'],\n",
    "    'Clutch':['Brent', 'Brandon'],\n",
    "    2: ['somthing random']\n",
    "}\n",
    "\n",
    "print(coding_temple['Padawans'][1])\n",
    "print(coding_temple[2][0])\n"
   ]
  },
  {
   "cell_type": "markdown",
   "metadata": {},
   "source": [
    "##### Dictionaries with Dictionaries"
   ]
  },
  {
   "cell_type": "code",
   "execution_count": 27,
   "metadata": {},
   "outputs": [
    {
     "name": "stdout",
     "output_type": "stream",
     "text": [
      "10.00\n"
     ]
    }
   ],
   "source": [
    "# to get values, must traverse through keys\n",
    "\n",
    "restaurant = {\n",
    "    'food': {\n",
    "        'Salad': '8.00',\n",
    "        'Burger': '15.00'\n",
    "\n",
    "    },\n",
    "    'drinks': {\n",
    "        'water': '10.00'\n",
    "\n",
    "    }\n",
    "}\n",
    "\n",
    "print(restaurant['drinks']['water'])\n"
   ]
  },
  {
   "cell_type": "markdown",
   "metadata": {},
   "source": [
    "## Dictionaries vs. Lists (over time) Example of RUNTIME\n",
    "### When inputting values in a Dictionary vs List"
   ]
  },
  {
   "cell_type": "code",
   "execution_count": 28,
   "metadata": {},
   "outputs": [],
   "source": [
    "import time\n",
    "\n",
    "\n",
    "# generate fake dictionary\n",
    "d = {}\n",
    "\n",
    "for i in range(50000000):\n",
    "    d[i] = 'value'\n",
    "    \n",
    "\n",
    "# generate fake list\n",
    "big_list = [x for x in range(50000000)]"
   ]
  },
  {
   "cell_type": "code",
   "execution_count": 29,
   "metadata": {},
   "outputs": [
    {
     "name": "stdout",
     "output_type": "stream",
     "text": [
      "Elapsed time for list: 0.48825526237487793\n",
      "Elapsed time for dictionary: 0.0\n"
     ]
    }
   ],
   "source": [
    "# tracking time for list\n",
    "start_time = time.time()\n",
    "\n",
    "if 49999999 in big_list:\n",
    "    pass\n",
    "end_time = time.time() - start_time\n",
    "\n",
    "print('Elapsed time for list: {}'.format(end_time))\n",
    "\n",
    "\n",
    "# tracking time for dictionary\n",
    "start_time = time.time()\n",
    "\n",
    "if 49999999 in d:\n",
    "    pass\n",
    "\n",
    "end_time = time.time() - start_time\n",
    "\n",
    "print('Elapsed time for dictionary: {}'.format(end_time))"
   ]
  },
  {
   "cell_type": "markdown",
   "metadata": {},
   "source": [
    "## Exercise #3 - Write a Function that asks someone's name and address, and then stores that into a dictionary, and continues to do so until they choose to 'quit'. Once they quit, the program should print all names and addresses. <br>\n",
    "<p>\n",
    "<b>Proper steps:</b><br>\n",
    "step 1: write a function that takes in information and stores it in a dictionary<br>\n",
    "step 2: define an empty dictionary to work with<br>\n",
    "step 3: create our loop, which asks the user for information until they quit<br>\n",
    "step 4: ask for the information, and store it into variables<br>\n",
    "step 5: check if the user types quit<br>\n",
    "step 5a: print out all information<br>\n",
    "step 5b: break out of the loop<br>\n",
    "step 6: if they didn't quit, add the information to the dictionary<br>\n",
    "step 7: invoke the function by calling it\n",
    "</p>"
   ]
  },
  {
   "cell_type": "code",
   "execution_count": 32,
   "metadata": {},
   "outputs": [
    {
     "name": "stdout",
     "output_type": "stream",
     "text": [
      "Exit the program at any time by replying 'quit'\n",
      "Name already in use\n"
     ]
    },
    {
     "data": {
      "text/plain": [
       "{'Dylan': '123 Fun Street', 'Christian': '123 Not Fun Street'}"
      ]
     },
     "execution_count": 32,
     "metadata": {},
     "output_type": "execute_result"
    }
   ],
   "source": [
    "\n",
    "\n",
    "\n",
    "\"\"\"   GABE class exercise learn and test---------------------------------------------------------------\n",
    "\n",
    "\n",
    "def get_info():\n",
    "\n",
    "    info = {}\n",
    "\n",
    "    print(\"Exit the program at any time by replying 'quit'\")\n",
    "\n",
    "    while True:\n",
    "        name = input(\"What is you name?\")\n",
    "        if name == \"quit\":\n",
    "            break\n",
    "        elif name in info:\n",
    "            print('Name already in use')\n",
    "            continue\n",
    "\n",
    "        address = input(\"What is your address?\")\n",
    "        if address == \"quit\":\n",
    "            break\n",
    "\n",
    "        info[name] = address\n",
    "\n",
    "        again = input(\"Would you like to add more info? (yes/quit)\")\n",
    "        if again == 'quit' or again == 'no':\n",
    "            break\n",
    "    \n",
    "    return info\n",
    "\n",
    "print(get_info())\n",
    "\n",
    "\n",
    "\n",
    "\"\"\""
   ]
  },
  {
   "cell_type": "markdown",
   "metadata": {},
   "source": [
    "## Set <br>\n",
    "<p>A Set is an unordered collection data type that is iterable (loop), mutable, and has no duplicate elements.<br>Major advantage is that it is highly optimized in checking if something is in the set, as opposed to checking if something is in a list.</p>"
   ]
  },
  {
   "cell_type": "markdown",
   "metadata": {},
   "source": [
    "##### Declaring"
   ]
  },
  {
   "cell_type": "code",
   "execution_count": 37,
   "metadata": {},
   "outputs": [
    {
     "name": "stdout",
     "output_type": "stream",
     "text": [
      "[1, 2, 3, 4, 5, 6, 7, 8, 9, 10]\n",
      "<class 'set'>\n"
     ]
    }
   ],
   "source": [
    "# set() or {}\n",
    "\n",
    "a_list = [1,1,1,2,3,4,5,6,7,8,9,10]\n",
    "new_set = set(a_list)\n",
    "\n",
    "print(list(new_set))\n",
    "\n",
    "set_1 = set()\n",
    "\n",
    "set_2 = {1,2,3}\n",
    "\n",
    "print(type(set_2))\n"
   ]
  },
  {
   "cell_type": "markdown",
   "metadata": {},
   "source": [
    "##### .add()"
   ]
  },
  {
   "cell_type": "code",
   "execution_count": 43,
   "metadata": {},
   "outputs": [
    {
     "name": "stdout",
     "output_type": "stream",
     "text": [
      "{1, 2, 3, 4, 5, 'pizza', 6, 'tacos'}\n"
     ]
    }
   ],
   "source": [
    "# set.add()\n",
    "\n",
    "set_1 = {1,2,3,4,5, 'pizza', 'tacos'}\n",
    "\n",
    "set_1.add(6)\n",
    "\n",
    "print(set_1)\n",
    "\n",
    "\n"
   ]
  },
  {
   "cell_type": "markdown",
   "metadata": {},
   "source": [
    "##### .remove()"
   ]
  },
  {
   "cell_type": "code",
   "execution_count": 45,
   "metadata": {},
   "outputs": [
    {
     "name": "stdout",
     "output_type": "stream",
     "text": [
      "{1, 2, 3, 4, 5, 6, 'tacos'}\n"
     ]
    },
    {
     "ename": "KeyError",
     "evalue": "'pizza'",
     "output_type": "error",
     "traceback": [
      "\u001b[1;31m---------------------------------------------------------------------------\u001b[0m",
      "\u001b[1;31mKeyError\u001b[0m                                  Traceback (most recent call last)",
      "Cell \u001b[1;32mIn[45], line 6\u001b[0m\n\u001b[0;32m      1\u001b[0m \u001b[39m# removes by value\u001b[39;00m\n\u001b[0;32m      2\u001b[0m \u001b[39m# set.remove()\u001b[39;00m\n\u001b[0;32m      3\u001b[0m \u001b[39m# nums.remove(56)\u001b[39;00m\n\u001b[0;32m      4\u001b[0m \u001b[39mprint\u001b[39m(set_1)\n\u001b[1;32m----> 6\u001b[0m set_1\u001b[39m.\u001b[39;49mremove(\u001b[39m'\u001b[39;49m\u001b[39mpizza\u001b[39;49m\u001b[39m'\u001b[39;49m)\n\u001b[0;32m      8\u001b[0m \u001b[39mprint\u001b[39m(set_1)\n\u001b[0;32m     10\u001b[0m \u001b[39mprint\u001b[39m(set_1[\u001b[39m4\u001b[39m])\n",
      "\u001b[1;31mKeyError\u001b[0m: 'pizza'"
     ]
    }
   ],
   "source": [
    "# removes by value\n",
    "# set.remove()\n",
    "# nums.remove(56)\n",
    "print(set_1)\n",
    "\n",
    "set_1.remove('pizza')\n",
    "\n",
    "print(set_1)\n",
    "\n",
    "\n"
   ]
  },
  {
   "cell_type": "markdown",
   "metadata": {},
   "source": [
    "##### .union() "
   ]
  },
  {
   "cell_type": "code",
   "execution_count": 51,
   "metadata": {},
   "outputs": [
    {
     "name": "stdout",
     "output_type": "stream",
     "text": [
      "{1, 2, 3, 4, 5, 6, 7, 8}\n"
     ]
    }
   ],
   "source": [
    "# Returns a union of two sets, can also use '|' or set.union(set)\n",
    "# joins all numbers, gets rid of duplicates\n",
    "\n",
    "this = {1,2,3,4,5}\n",
    "\n",
    "that = {4,5,6,7,8}\n",
    "\n",
    "other = this.union(that)\n",
    "other1 = this | that\n",
    "\n",
    "print(other1)\n"
   ]
  },
  {
   "cell_type": "markdown",
   "metadata": {},
   "source": [
    "##### .intersection()"
   ]
  },
  {
   "cell_type": "code",
   "execution_count": 53,
   "metadata": {},
   "outputs": [
    {
     "name": "stdout",
     "output_type": "stream",
     "text": [
      "{4, 5}\n"
     ]
    }
   ],
   "source": [
    "# Returns an intersection of two sets, can also use '&'\n",
    "# only takes similar elements from both sets\n",
    "\n",
    "this = {1,2,3,4,5}\n",
    "\n",
    "that = {4,5,6,7,8}\n",
    "\n",
    "other = this.intersection(that)\n",
    "other1 = this & that\n",
    "\n",
    "print(other1)\n",
    "\n"
   ]
  },
  {
   "cell_type": "markdown",
   "metadata": {},
   "source": [
    "##### .difference()"
   ]
  },
  {
   "cell_type": "code",
   "execution_count": 56,
   "metadata": {},
   "outputs": [
    {
     "name": "stdout",
     "output_type": "stream",
     "text": [
      "{1, 2, 3}\n"
     ]
    }
   ],
   "source": [
    "# Returns a set containing all the elements of invoking set that are not in the second set, can also use '-'\n",
    "# only takes values from the first set that are not in the second set\n",
    "# order matters\n",
    "\n",
    "this = {1,2,3,4,5}\n",
    "\n",
    "that = {4,5,6,7,8}\n",
    "\n",
    "other = that.difference(this)\n",
    "other1 = this - that\n",
    "\n",
    "print(other1)\n",
    "\n"
   ]
  },
  {
   "cell_type": "markdown",
   "metadata": {},
   "source": [
    "##### .clear()"
   ]
  },
  {
   "cell_type": "code",
   "execution_count": 57,
   "metadata": {},
   "outputs": [
    {
     "name": "stdout",
     "output_type": "stream",
     "text": [
      "set()\n"
     ]
    }
   ],
   "source": [
    "# Empties the whole set\n",
    "# set.clear()\n",
    "\n",
    "this.clear()\n",
    "\n",
    "print(this)\n"
   ]
  },
  {
   "cell_type": "markdown",
   "metadata": {},
   "source": [
    "##### Frozenset <br>\n",
    "<p>Frozen sets are immutable objects that only support methods and operators that produce a result without affecting the frozen set or sets to which they are applied.</p><br><b>Unique & Immutable</b>"
   ]
  },
  {
   "cell_type": "code",
   "execution_count": 62,
   "metadata": {},
   "outputs": [
    {
     "name": "stdout",
     "output_type": "stream",
     "text": [
      "frozenset({1, 2, 3, 4, 5})\n",
      "frozenset({1, 2, 3})\n"
     ]
    }
   ],
   "source": [
    "# frozenset([])\n",
    "\n",
    "this = {1,2,3,4,5}\n",
    "\n",
    "that = {4,5,6,7,8}\n",
    "\n",
    "other = frozenset(this)\n",
    "\n",
    "print(other)\n",
    "\n",
    "other1 = other - that\n",
    "\n",
    "print(other1)\n"
   ]
  },
  {
   "cell_type": "markdown",
   "metadata": {},
   "source": [
    "## Modules"
   ]
  },
  {
   "cell_type": "markdown",
   "metadata": {},
   "source": [
    "##### Importing Entire Modules"
   ]
  },
  {
   "cell_type": "code",
   "execution_count": 65,
   "metadata": {},
   "outputs": [
    {
     "name": "stdout",
     "output_type": "stream",
     "text": [
      "3.141592653589793\n",
      "7\n",
      "4\n"
     ]
    }
   ],
   "source": [
    "# import\n",
    "import math\n",
    "\n",
    "print(math.pi)\n",
    "print(math.floor(7.89))\n",
    "print(math.ceil(math.pi))\n",
    "\n"
   ]
  },
  {
   "cell_type": "markdown",
   "metadata": {},
   "source": [
    "##### Importing Methods Only"
   ]
  },
  {
   "cell_type": "code",
   "execution_count": 67,
   "metadata": {},
   "outputs": [
    {
     "name": "stdout",
     "output_type": "stream",
     "text": [
      "7\n",
      "3.141592653589793\n"
     ]
    }
   ],
   "source": [
    "# from 'xxx' import 'xxx'\n",
    "# from math import floor\n",
    "\n",
    "from math import floor, ceil, pi\n",
    "\n",
    "\n",
    "print(floor(7.88))\n",
    "print(pi)\n"
   ]
  },
  {
   "cell_type": "markdown",
   "metadata": {},
   "source": [
    "##### Using the 'as' Keyword"
   ]
  },
  {
   "cell_type": "code",
   "execution_count": 70,
   "metadata": {},
   "outputs": [
    {
     "name": "stdout",
     "output_type": "stream",
     "text": [
      "5\n",
      "4\n"
     ]
    }
   ],
   "source": [
    "# from 'xxx' import 'xxx' as 'xxx' or import 'xxx' as 'xxx'\n",
    "# from math import floor as f\n",
    "\n",
    "from math import ceil as round_up, floor as round_down\n",
    "\n",
    "print(round_up(4.35))\n",
    "print(round_down(4.35))\n"
   ]
  },
  {
   "cell_type": "markdown",
   "metadata": {},
   "source": [
    "##### Creating a Module"
   ]
  },
  {
   "cell_type": "code",
   "execution_count": 77,
   "metadata": {},
   "outputs": [
    {
     "name": "stdout",
     "output_type": "stream",
     "text": [
      "8\n"
     ]
    }
   ],
   "source": [
    "from my_module import addone\n",
    "\n",
    "print(my_module.addone(7))"
   ]
  },
  {
   "cell_type": "markdown",
   "metadata": {},
   "source": [
    "# Exercises"
   ]
  },
  {
   "cell_type": "markdown",
   "metadata": {},
   "source": [
    "### 1) Build a Shopping Cart <br>\n",
    "<p><b>You can use either lists or dictionaries. The program should have the following capabilities:</b><br><br>\n",
    "1) Takes in input <br>\n",
    "2) Stores user input into a dictionary or list <br>\n",
    "3) The User can add or delete items <br>\n",
    "4) The User can see current shopping list <br>\n",
    "5) The program Loops until user 'quits' <br>\n",
    "6) Upon quiting the program, print out all items in the user's list <br>\n",
    "</p>"
   ]
  },
  {
   "cell_type": "code",
   "execution_count": null,
   "metadata": {},
   "outputs": [],
   "source": [
    "#####################VVVVVVVVVVVVVVVVVVVVVV----------- VERSION #2 PER C.ASKEW ------------VVVVVVVVVVVVVVVVV###############################################\n",
    "\n",
    "# Ask the user four bits of input: Do you want to : Show/Add/Delete or Quit?\n",
    "\n",
    "# PER DK PREFERENCE: use a dictionary for this***************\n",
    "\n",
    "# ----------->SEE CLASS EXERCISE #3 ABOVE---------------------\n",
    "\n",
    "#MUST DO:\n",
    "\"\"\"   \n",
    "\n",
    "[ x ]   1) Takes in input \n",
    "[ x ]   2) Stores user input into a dictionary or list \n",
    "[ x ]   3) The User can add or delete items \n",
    "[ x ]   4) The User can see current shopping list \n",
    "[ x ]   5) The program Loops until user 'quits' \n",
    "[ x ]   6) Upon quiting the program, print out all items in the user's list \n",
    "\n",
    "\n",
    "\n",
    "\"\"\"\n",
    "\n",
    "# Initialize an empty dictionary to store the shopping cart items\n",
    "shopping_cart = {}\n",
    "\n",
    "# Define a function to handle user input and update the shopping cart\n",
    "def shopping_cart_manager():\n",
    "    while True:\n",
    "        # Ask the user what they want to do\n",
    "        user_input = input(\"Do you want to: Show/Add/Delete or Quit? \")\n",
    "\n",
    "        # Handle user input\n",
    "        if user_input.lower() == \"show\":\n",
    "            print(\"Current Shopping List: \")\n",
    "            for item, quantity in shopping_cart.items():\n",
    "                print(item + \" - \" + str(quantity))\n",
    "        elif user_input.lower() == \"add\":\n",
    "            item_name = input(\"What item do you want to add? \")\n",
    "            item_quantity = int(input(\"How many do you want to add? \"))\n",
    "            if item_name in shopping_cart:\n",
    "                shopping_cart[item_name] += item_quantity\n",
    "            else:\n",
    "                shopping_cart[item_name] = item_quantity\n",
    "            print(item_name + \" added to shopping cart.\")\n",
    "        elif user_input.lower() == \"delete\":\n",
    "            item_name = input(\"What item do you want to delete? \")\n",
    "            if item_name in shopping_cart:\n",
    "                del shopping_cart[item_name]\n",
    "                print(item_name + \" removed from shopping cart.\")\n",
    "            else:\n",
    "                print(item_name + \" not found in shopping cart.\")\n",
    "        elif user_input.lower() == \"quit\":\n",
    "            print(\"Final Shopping List: \")\n",
    "            for item, quantity in shopping_cart.items():\n",
    "                print(item + \" - \" + str(quantity))\n",
    "            break\n",
    "        else:\n",
    "            print(\"Invalid input, please try again.\")\n",
    "\n",
    "# Call the shopping cart manager function to start the program\n",
    "shopping_cart_manager()\n",
    "\n",
    "\n",
    "\n",
    "##################### ^^^^^^^^^^^^^^^^^^--------------VERSION #2 PER C.ASKEW--------------^^^^^^^^^^^^^^^^^^^^^^^^^^^^^ ###############################################\n",
    "\n",
    "\n",
    "\n",
    "\n",
    "\n",
    "\n",
    "\n",
    "\n",
    "\n",
    "\n",
    "\n",
    "\n",
    "\n",
    "\n",
    "\n",
    "\n",
    "\n",
    "\n",
    "\n",
    "\n",
    "\n",
    "\n",
    "\n",
    "\n",
    "\n",
    "\n",
    "\n",
    "\n",
    "\n",
    "\n",
    "\n",
    "\n",
    "\n",
    "\n",
    "\n",
    "\n",
    "\n",
    "\n",
    "\n",
    "\n",
    "\n",
    "\n",
    "\n",
    "\n",
    "\n",
    "\n",
    "\n",
    "\n",
    "\"\"\"\"\"\n",
    "\n",
    "\n",
    "#############VERSION #1 -------FIX PER C.ASKEW-----------------------------------------------------------------------------\n",
    "\n",
    "\n",
    "\n",
    "# Ask the user four bits of input: Do you want to : Show/Add/Delete or Quit?\n",
    "\n",
    "# PER DK PREFERENCE: use a dictionary for this***************\n",
    "\n",
    "# ----------->SEE CLASS EXERCISE #3 ABOVE---------------------\n",
    "\n",
    "#MUST DO:\n",
    "\"\"\"   \n",
    "\n",
    "#[ x ]   1) Takes in input \n",
    "#[ x ]   2) Stores user input into a dictionary or list \n",
    "#[ x ]   3) The User can add or delete items \n",
    "#[ x ]   4) The User can see current shopping list \n",
    "#[ x ]   5) The program Loops until user 'quits' \n",
    "#[ x ]   6) Upon quiting the program, print out all items in the user's list \n",
    "\n",
    "\"\"\"\n",
    "\n",
    "shopping_cart = {}\n",
    "# \"INITIALIZE\" empty dict to store shopping cart item\n",
    "\n",
    "def shopping_cart_manager():\n",
    "    while True:     #INDENT?\n",
    "# from google search: IMPORTANT FIRST STEP: (a) DEFINE a function to handle user input\n",
    "# AND (b) UPDATE the shopping cart\n",
    "\n",
    "        user_input = input(\"Do you want to: Show/Add/Delete or Quit? \")\n",
    "    # asks the user what they want to do and stores their response inside user_input\n",
    "\n",
    "\n",
    "#user input section---------BELOW\n",
    "\n",
    "if user_input.lower() == \"show\":\n",
    "    #checks if user wants to show the current cart\n",
    "    print(\"Current Cart: \")\n",
    "    # prints a header for the current cart\n",
    "    for item, quantity in shopping_cart.itemsd():\n",
    "    # loops thru each item in the cart and prints NAME and QUANTITY\n",
    "        print(item + \" - \" + str(quantity))\n",
    "        #prints name AND uantity of each item in cart\n",
    "\n",
    "#extra space helps gabe to read------------------------------\n",
    "elif user_input.lower() == \"add\":\n",
    "# checks if the user wants to add an item to cart\n",
    "    item_name = input(\"What item do you want to add? \")\n",
    "    #asks user what item they want to add AND store response inside \"item_name\"\n",
    "    item_quantity = int(input(\"How many do you want to add? \"))\n",
    "    # asks user how many of item want to add AND stores inside \"item_quantity\" \n",
    "    if item_name in shopping_cart:\n",
    "        #check if item already in cart\n",
    "        shopping_cart[item_name] += item_quantity\n",
    "        #adds NEW quantity to EXISTING quantity *IF* the item already in cart\n",
    "    else:\n",
    "    #runs if the item is not already in the cart\n",
    "        shopping_cart[item_name] = item_quantity\n",
    "        #adds a new item to the \"shopping_cart dictionary\"\n",
    "    print(item_name + \" added to shopping cart.\")\n",
    "    #prints message to the user that their chosen \"item_name\" was added to cart\n",
    "\n",
    "#extra space helps gabe to read------------------------------\n",
    "\n",
    "elif user_input.lower() == \"delete\":\n",
    "            item_name = input(\"What item do you want to delete? \")\n",
    "            if item_name in shopping_cart:\n",
    "                del shopping_cart[item_name]\n",
    "                print(item_name + \" removed from shopping cart.\")\n",
    "            else:\n",
    "                print(item_name + \" not found in shopping cart.\")\n",
    "\n",
    "#extra space helps gabe to read------------------------------\n",
    "\n",
    "elif user_input.lower() == \"quit\":\n",
    "            print(\"Final Shopping List: \")\n",
    "            for item, quantity in shopping_cart.items():\n",
    "                print(item + \" - \" + str(quantity))\n",
    "\n",
    "                break\n",
    "                #exits the while loop that runs the shopping cart when the user enters \"quit\" \n",
    "            else:\n",
    "                print(\"Invalid input, please try again.\")\n",
    "\n",
    "#user input section---------ABOVE\n",
    "\n",
    "\n",
    "shopping_cart_manager()\n",
    "# Call the shopping cart function to start the program\n",
    "\n",
    "\n",
    "\"\"\"\n",
    "\n",
    "\n",
    "#############VERSION #1 -------FIX PER C.ASKEW-----------------------------------------------------------------------------\n",
    "\n",
    "\n",
    "\n",
    "\n",
    "\n",
    "\n",
    "\n",
    "\n",
    "\n",
    "\n",
    "\n",
    "\n",
    "\n",
    "\n"
   ]
  },
  {
   "cell_type": "markdown",
   "metadata": {},
   "source": [
    "### 2) Create a Module in VS Code and Import It into jupyter notebook <br>\n",
    "<p><b>Module should have the following capabilities:</b><br><br>\n",
    "1) Has a function to calculate the square footage of a house <br>\n",
    "    <b>Reminder of Formula: Length X Width == Area<br>\n",
    "        <hr>\n",
    "2) Has a function to calculate the circumference of a circle <br><br>\n",
    "<b>Program in Jupyter Notebook should take in user input and use imported functions to calculate a circle's circumference or a houses square footage</b>\n",
    "</p>"
   ]
  },
  {
   "cell_type": "code",
   "execution_count": null,
   "metadata": {},
   "outputs": [],
   "source": [
    "# https://www.w3schools.com/python/python_math.asp\n",
    "# https://www.google.com/search?q=How+do+you+import+a+Python+math+module+into+Visual+Studio+Code%3F&rlz=1C5CHFA_enUS751US752&oq=How+do+you+import+a+Python+math+module+into+Visual+Studio+Code%3F&aqs=chrome..69i57.3502j0j7&sourceid=chrome&ie=UTF-8\n",
    "\n",
    "#DK: SEE PYTHON WEBSITE FOR \"MATH IMPORT\"\n",
    "\n",
    "\n"
   ]
  }
 ],
 "metadata": {
  "kernelspec": {
   "display_name": "Python 3.10.10 64-bit",
   "language": "python",
   "name": "python3"
  },
  "language_info": {
   "codemirror_mode": {
    "name": "ipython",
    "version": 3
   },
   "file_extension": ".py",
   "mimetype": "text/x-python",
   "name": "python",
   "nbconvert_exporter": "python",
   "pygments_lexer": "ipython3",
   "version": "3.10.10"
  },
  "vscode": {
   "interpreter": {
    "hash": "aee8b7b246df8f9039afb4144a1f6fd8d2ca17a180786b69acc140d282b71a49"
   }
  }
 },
 "nbformat": 4,
 "nbformat_minor": 2
}
